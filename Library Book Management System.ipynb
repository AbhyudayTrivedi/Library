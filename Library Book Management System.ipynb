{
 "cells": [
  {
   "cell_type": "code",
   "execution_count": 1,
   "id": "72ec05b9",
   "metadata": {},
   "outputs": [],
   "source": [
    "from tkinter import *\n",
    "import sqlite3\n",
    "import tkinter.ttk as ttk\n",
    "import tkinter.messagebox as tkMessageBox"
   ]
  },
  {
   "cell_type": "code",
   "execution_count": 2,
   "id": "1efe2088",
   "metadata": {},
   "outputs": [
    {
     "data": {
      "text/plain": [
       "''"
      ]
     },
     "execution_count": 2,
     "metadata": {},
     "output_type": "execute_result"
    }
   ],
   "source": [
    "root = Tk()\n",
    "root.title(\"Library Book Management System\")"
   ]
  },
  {
   "cell_type": "code",
   "execution_count": 3,
   "id": "3cf7c2fb",
   "metadata": {},
   "outputs": [],
   "source": [
    "def Database():\n",
    "    global conn,cursor\n",
    "    conn = sqlite3.connect('library.db')\n",
    "    cursor = conn.cursor()\n",
    "    cursor.execute(\" CREATE TABLE IF NOT EXISTS library (Booktitle TEXT, Author TEXT, Year INTEGER, ISBN INTEGER) \")\n"
   ]
  },
  {
   "cell_type": "code",
   "execution_count": 4,
   "id": "37118195",
   "metadata": {},
   "outputs": [],
   "source": [
    "def Add():\n",
    "    if BOOKTITLE.get() ==\"\" or AUTHOR.get() ==\"\" or YEAR.get() ==\"\" or ISBN.get() ==\"\":\n",
    "        txt_result.config(text=\"Please enter all the fields\",fg = \"red\")\n",
    "    else:\n",
    "        Database()\n",
    "        cursor.execute(\"INSERT INTO library(Booktitle,Author,Year,ISBN) VALUES (?,?,?,?)\",(str(BOOKTITLE.get()),str(AUTHOR.get()),str(YEAR.get()),str(ISBN.get())))\n",
    "        conn.commit()\n",
    "        BOOKTITLE.set(\"\")\n",
    "        AUTHOR.set(\"\")\n",
    "        YEAR.set(\"\")\n",
    "        ISBN.set(\"\")\n",
    "        cursor.close()\n",
    "        conn.close()\n",
    "        txt_result.config(text = \"DATA ADDDED SUCCESSFULLY\",fg = \"green\")"
   ]
  },
  {
   "cell_type": "code",
   "execution_count": 5,
   "id": "a9fa6bfd",
   "metadata": {},
   "outputs": [],
   "source": [
    "def Search(): \n",
    "    tree.delete(*tree.get_children())\n",
    "    Database()\n",
    "    cursor.execute(\"SELECT * FROM library\")\n",
    "    fetch = cursor.fetchall()\n",
    "    \n",
    "    for data in fetch:\n",
    "        if BOOKTITLE.get() == data[0]:\n",
    "            tree.insert('','end',values=(data[0],data[1],data[2],data[3]))\n",
    "        cursor.close()\n",
    "        txt_result.config(text = \"SEARCHED DATA DISPLAYED SUCCESSFULLY\",fg=\"green\")"
   ]
  },
  {
   "cell_type": "code",
   "execution_count": 6,
   "id": "10475cf1",
   "metadata": {},
   "outputs": [],
   "source": [
    "def Display():\n",
    "    tree.delete(*tree.get_children())\n",
    "    Database()\n",
    "    cursor.execute(\"Select * FROM library\")\n",
    "    fetch = cursor.fetchall()\n",
    "    for data in fetch:\n",
    "        tree.insert('','end',values=(data[0],data[1],data[2],data[3]))\n",
    "    cursor.close()\n",
    "    txt_result.config(text = \"DATA DISPLATED SUCCESSFULLY\",fg=\"black\")"
   ]
  },
  {
   "cell_type": "code",
   "execution_count": 7,
   "id": "9392cf92",
   "metadata": {},
   "outputs": [],
   "source": [
    "def delete():    \n",
    "    Database()\n",
    "    cursor.execute(\"SELECT * FROM library\")\n",
    "    fetch = cursor.fetchall()\n",
    "    \n",
    "    for data in fetch:\n",
    "        if BOOKTITLE.get() == data[0]:\n",
    "            cursor.execute(\" DELETE FROM library where Booktitle = ? \",(str(BOOKTITLE.get()),))\n",
    "            conn.commit()\n",
    "            display()\n",
    "            cursor.close()\n",
    "            conn.close()\n",
    "            txt_result.config(text = \"DATA DELETED SUCCESS\",fg=\"black\")\n",
    "     "
   ]
  },
  {
   "cell_type": "code",
   "execution_count": 8,
   "id": "8083abdd",
   "metadata": {},
   "outputs": [],
   "source": [
    "def Exit():\n",
    "    result = tkMessageBox.askquestion(\"ARE YOU SURE YOU WANT TO EXIT ? (Y/N)\", icon = \"warning\")\n",
    "    if result == 'yes':\n",
    "        root.destroy()\n",
    "        exit()"
   ]
  },
  {
   "cell_type": "code",
   "execution_count": 9,
   "id": "48c211ef",
   "metadata": {},
   "outputs": [],
   "source": [
    "BOOKTITLE = StringVar()\n",
    "AUTHOR = StringVar()\n",
    "YEAR = StringVar()\n",
    "ISBN = StringVar()"
   ]
  },
  {
   "cell_type": "code",
   "execution_count": 10,
   "id": "9979bbd0",
   "metadata": {},
   "outputs": [],
   "source": [
    "Top = Frame(root, width=900, height=50, bd =8, relief = 'raise')\n",
    "Top.pack(side=TOP)\n",
    "Left = Frame(root, width=300, height=500, bd =8, relief = 'raise')\n",
    "Left.pack(side=LEFT)\n",
    "Right = Frame(root, width=600, height=500, bd =8, relief = 'raise')\n",
    "Right.pack(side=RIGHT )\n",
    "\n",
    "Forms=Frame(Left,width=300,height=450)\n",
    "Forms.pack(side=TOP)\n",
    "\n",
    "Buttons = Frame(Left, width=300, height=100, bd =8, relief = 'raise')\n",
    "Buttons.pack(side=BOTTOM)"
   ]
  },
  {
   "cell_type": "code",
   "execution_count": 11,
   "id": "1aafc092",
   "metadata": {},
   "outputs": [],
   "source": [
    "#label widget\n",
    "txt_title = Label(Top,width=900,font=('arial',24), text='Library Book Management System')\n",
    "txt_title.pack()\n",
    "txt_Booktitle = Label(Forms,text='Booktitle',font=('arial',16), bd=15)\n",
    "txt_Booktitle.grid(row=0,stick='e')\n",
    "txt_Author = Label(Forms,text='Author',font=('arial',16), bd=15)\n",
    "txt_Author.grid(row=1,stick='e' )\n",
    "txt_Year = Label(Forms,text='Year',font=('arial',16), bd=15)\n",
    "txt_Year.grid(row=2,stick='e')\n",
    "txt_ISBN = Label(Forms,text='ISBN',font=('arial',16), bd=15)\n",
    "txt_ISBN.grid(row=3,stick='e')\n",
    "txt_result = Label(Buttons)\n",
    "txt_result.pack(side=TOP)"
   ]
  },
  {
   "cell_type": "code",
   "execution_count": 12,
   "id": "592c49a4",
   "metadata": {},
   "outputs": [],
   "source": [
    "#entry widget\n",
    "booktitle = Entry(Forms, textvariable=BOOKTITLE, width=30)\n",
    "booktitle.grid(row=0, column=1)\n",
    "author = Entry(Forms, textvariable=AUTHOR, width=30)\n",
    "author.grid(row=1, column=1)\n",
    "year = Entry(Forms, textvariable=YEAR, width=30)\n",
    "year.grid(row=2, column=1)\n",
    "isbn = Entry(Forms, textvariable=ISBN, width=30)\n",
    "isbn.grid(row=3, column=1)"
   ]
  },
  {
   "cell_type": "code",
   "execution_count": 13,
   "id": "a0f61616",
   "metadata": {},
   "outputs": [],
   "source": [
    "#button widget\n",
    "\n",
    "btn_display = Button(Buttons, width=10, text=\"Display\", command=Display)\n",
    "btn_display.pack(side=LEFT)\n",
    "btn_search = Button(Buttons, width=10, text=\"Search\", command=Search)\n",
    "btn_search.pack(side=LEFT)\n",
    "btn_add = Button(Buttons, width=10, text=\"Add\", command=Add)\n",
    "btn_add.pack(side=LEFT)\n",
    "btn_issue = Button(Buttons, width=10, text=\"Issue\", command=DISABLED)\n",
    "btn_issue.pack(side=LEFT)\n",
    "btn_delete = Button(Buttons, width=10, text=\"Delete\", command=delete)\n",
    "btn_delete.pack(side=LEFT)\n",
    "btn_exit = Button(Buttons, width=10, text=\"Exit\", command=Exit)\n",
    "btn_exit.pack(side=LEFT)"
   ]
  },
  {
   "cell_type": "code",
   "execution_count": 14,
   "id": "6c4950ef",
   "metadata": {},
   "outputs": [],
   "source": [
    "#list widget\n",
    "\n",
    "scrollbarx = Scrollbar(Right, orient=VERTICAL)\n",
    "scrollbary = Scrollbar(Right, orient=HORIZONTAL)\n",
    "\n",
    "tree = ttk.Treeview(Right, columns=('Booktitle','Author','Year','ISBN'))\n",
    "scrollbary.config(command=tree.yview)\n",
    "scrollbary.pack(side=RIGHT, fill=Y)\n",
    "scrollbarx.config(command=tree.xview)\n",
    "scrollbarx.pack(side=BOTTOM, fill=X)\n",
    "tree.heading('Booktitle', text=\"Booktitle\", anchor=W)\n",
    "tree.heading('Author', text=\"Author\", anchor=W)\n",
    "tree.heading('Year', text=\"Year\", anchor=W)\n",
    "tree.heading('ISBN', text=\"ISBN\", anchor=W)\n",
    "tree.column('#0', stretch=NO, minwidth=0, width=0)\n",
    "tree.column('#1', stretch=NO, minwidth=0, width=120)\n",
    "tree.column('#2', stretch=NO, minwidth=0, width=120)\n",
    "tree.column('#3', stretch=NO, minwidth=0, width=80)\n",
    "tree.column('#4', stretch=NO, minwidth=0, width=120)\n",
    "tree.pack()"
   ]
  },
  {
   "cell_type": "code",
   "execution_count": 15,
   "id": "c34002ec",
   "metadata": {},
   "outputs": [],
   "source": [
    "if __name__ == '__main__':\n",
    "    root.mainloop()\n",
    "    \n"
   ]
  },
  {
   "cell_type": "code",
   "execution_count": null,
   "id": "76c8a2b5",
   "metadata": {},
   "outputs": [],
   "source": [
    "import numpy as np\n",
    "\n",
    "a = np.array([1, 2, 3,4,5], ndmin = 2)\n",
    "\n",
    "print (a)"
   ]
  },
  {
   "cell_type": "code",
   "execution_count": null,
   "id": "980a2d60",
   "metadata": {},
   "outputs": [],
   "source": [
    "import pandas as pd\n",
    "\n",
    "import numpy as np\n",
    "\n",
    "s = pd.Series(np.random.randn(4))\n",
    "\n",
    "print(s.ndim)"
   ]
  },
  {
   "cell_type": "code",
   "execution_count": null,
   "id": "ec737fe5",
   "metadata": {},
   "outputs": [],
   "source": [
    "import pandas as pd\n",
    "\n",
    "import numpy as np\n",
    "\n",
    "s = pd.Series(np.random.randn(4))\n",
    "\n",
    "print(s)"
   ]
  },
  {
   "cell_type": "code",
   "execution_count": null,
   "id": "8ba1c548",
   "metadata": {},
   "outputs": [],
   "source": []
  }
 ],
 "metadata": {
  "kernelspec": {
   "display_name": "Python 3 (ipykernel)",
   "language": "python",
   "name": "python3"
  },
  "language_info": {
   "codemirror_mode": {
    "name": "ipython",
    "version": 3
   },
   "file_extension": ".py",
   "mimetype": "text/x-python",
   "name": "python",
   "nbconvert_exporter": "python",
   "pygments_lexer": "ipython3",
   "version": "3.9.12"
  }
 },
 "nbformat": 4,
 "nbformat_minor": 5
}
